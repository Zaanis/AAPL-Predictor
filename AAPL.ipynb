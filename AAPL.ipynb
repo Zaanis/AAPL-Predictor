{
  "cells": [
    {
      "cell_type": "code",
      "execution_count": null,
      "metadata": {
        "id": "O8n80Dbzm18m"
      },
      "outputs": [],
      "source": [
        "!pip install --upgrade snowflake-connector-python\n",
        "!pip install pyarrow==10.0.1"
      ]
    },
    {
      "cell_type": "code",
      "execution_count": null,
      "metadata": {},
      "outputs": [],
      "source": [
        "print('this is an edit')"
      ]
    },
    {
      "cell_type": "code",
      "execution_count": 2,
      "metadata": {
        "id": "ZBjA2NHHm5wL"
      },
      "outputs": [],
      "source": [
        "import requests\n",
        "import pandas as pd\n",
        "import time\n",
        "import snowflake.connector\n",
        "import glob\n",
        "from sklearn.preprocessing import MinMaxScaler, StandardScaler\n",
        "import matplotlib.pyplot as plt\n",
        "import numpy as np\n",
        "import tensorflow as tf"
      ]
    },
    {
      "cell_type": "code",
      "execution_count": null,
      "metadata": {
        "id": "__gDprzbm8yZ"
      },
      "outputs": [],
      "source": [
        "from datetime import datetime, timedelta\n",
        "\n",
        "current_date = datetime.now()\n",
        "\n",
        "# Get the list of months since January 1, 2000\n",
        "start_date = datetime(2000, 1, 1)\n",
        "months_since_2000 = [(start_date.year, start_date.month)]\n",
        "while start_date < current_date:\n",
        "    start_date = start_date + timedelta(days=32)  # Adding 32 days to make sure we jump to the next month\n",
        "    start_date = start_date.replace(day=1)  # Setting the day to 1 to get the first day of the month\n",
        "    months_since_2000.append((start_date.year, start_date.month))\n",
        "months = months_since_2000[:-1]\n",
        "months = [f\"{year}-{month:02d}\" for year, month in months]\n",
        "months"
      ]
    },
    {
      "cell_type": "code",
      "execution_count": 11,
      "metadata": {
        "id": "IkYxFUrBosUb"
      },
      "outputs": [],
      "source": [
        "conn = snowflake.connector.connect(\n",
        "user='myusername',\n",
        "password='mypassword',\n",
        "account='myaccount',\n",
        "warehouse='AAPL_warehouse',\n",
        "database='AAPL_database',\n",
        "schema='firstattempt',\n",
        ")\n",
        "cur = conn.cursor()\n",
        "# username, password, account"
      ]
    },
    {
      "cell_type": "code",
      "execution_count": 12,
      "metadata": {
        "colab": {
          "base_uri": "https://localhost:8080/"
        },
        "id": "lpz5CIS5otys",
        "outputId": "976a88c7-d372-4745-a554-fb6ec0c8a850"
      },
      "outputs": [
        {
          "data": {
            "text/plain": [
              "<snowflake.connector.cursor.SnowflakeCursor at 0x7b2208d241c0>"
            ]
          },
          "execution_count": 12,
          "metadata": {},
          "output_type": "execute_result"
        }
      ],
      "source": [
        "cur.execute(\"CREATE WAREHOUSE IF NOT EXISTS AAPL_warehouse\")\n",
        "cur.execute(\"CREATE DATABASE IF NOT EXISTS AAPL_database\")\n",
        "cur.execute(\"CREATE SCHEMA IF NOT EXISTS AAPL_database.firstattempt\")\n",
        "cur.execute(\"CREATE OR REPLACE STAGE AAPLDATA FILE_FORMAT = (TYPE = 'CSV')\")"
      ]
    },
    {
      "cell_type": "markdown",
      "metadata": {
        "id": "2lvkP_B5pQDe"
      },
      "source": [
        "# Loading AAPL 5 min data from 2000/01/01"
      ]
    },
    {
      "cell_type": "markdown",
      "metadata": {
        "id": "WCRoJH-lD7jq"
      },
      "source": [
        "The API keys listed below are not the actual API keys"
      ]
    },
    {
      "cell_type": "code",
      "execution_count": null,
      "metadata": {
        "id": "6r8FknD1pNUt"
      },
      "outputs": [],
      "source": [
        "count= 0\n",
        "df = pd.DataFrame()\n",
        "for i in months:\n",
        "  url = 'https://www.alphavantage.co/query?function=TIME_SERIES_INTRADAY&symbol=AAPL&interval=5min&month={}&outputsize=full&datatype=csv&apikey=myapikey'.format(i)\n",
        "  data = pd.read_csv(url)\n",
        "  df = pd.concat([df,data])\n",
        "  count += 1\n",
        "  if count % 300 == 0:\n",
        "    time.sleep(70)\n",
        "  print(len(df))"
      ]
    },
    {
      "cell_type": "code",
      "execution_count": 13,
      "metadata": {
        "id": "ul5dSIbnqInY"
      },
      "outputs": [],
      "source": [
        "df.to_csv('aapl.csv')"
      ]
    },
    {
      "cell_type": "code",
      "execution_count": 14,
      "metadata": {
        "colab": {
          "base_uri": "https://localhost:8080/"
        },
        "id": "QYDvhaK5qNwO",
        "outputId": "112ef415-b70a-49d8-b227-b6d09f2ca788"
      },
      "outputs": [
        {
          "data": {
            "text/plain": [
              "<snowflake.connector.cursor.SnowflakeCursor at 0x7b2208d241c0>"
            ]
          },
          "execution_count": 14,
          "metadata": {},
          "output_type": "execute_result"
        }
      ],
      "source": [
        "cur.execute(\"\"\"\n",
        "    PUT file://aapl.csv @AAPLDATA\n",
        "\"\"\")"
      ]
    },
    {
      "cell_type": "code",
      "execution_count": 15,
      "metadata": {
        "colab": {
          "base_uri": "https://localhost:8080/"
        },
        "id": "yXK5xBHCqPxh",
        "outputId": "e5a08a22-c4de-44d6-af08-21715eb52851"
      },
      "outputs": [
        {
          "data": {
            "text/plain": [
              "<snowflake.connector.cursor.SnowflakeCursor at 0x7b2208d241c0>"
            ]
          },
          "execution_count": 15,
          "metadata": {},
          "output_type": "execute_result"
        }
      ],
      "source": [
        "cur.execute(\"\"\"CREATE OR REPLACE TABLE AAPL (\n",
        "        rownum integer,\n",
        "        TIMESTAMP TIMESTAMP,\n",
        "        OPEN FLOAT,\n",
        "        HIGH FLOAT,\n",
        "        LOW FLOAT,\n",
        "        CLOSE FLOAT,\n",
        "        VOLUME INTEGER\n",
        ")\"\"\")"
      ]
    },
    {
      "cell_type": "code",
      "execution_count": 16,
      "metadata": {
        "colab": {
          "base_uri": "https://localhost:8080/"
        },
        "id": "Tkl5xomNqb-N",
        "outputId": "c9f13e6a-ac30-4e76-8923-0f794a2c9fbd"
      },
      "outputs": [
        {
          "data": {
            "text/plain": [
              "<snowflake.connector.cursor.SnowflakeCursor at 0x7b2208d241c0>"
            ]
          },
          "execution_count": 16,
          "metadata": {},
          "output_type": "execute_result"
        }
      ],
      "source": [
        "copy_command = \"\"\"\n",
        "COPY INTO AAPL\n",
        "FROM @AAPL_DATABASE.FIRSTATTEMPT.AAPLDATA\n",
        "FILE_FORMAT = (TYPE = 'CSV' skip_header = 1)\n",
        "ON_ERROR = 'CONTINUE'\n",
        "\"\"\"\n",
        "cur.execute(copy_command)"
      ]
    },
    {
      "cell_type": "markdown",
      "metadata": {
        "id": "Hlfe9wQkrIy_"
      },
      "source": [
        "# Load RSI, SMA, MACD"
      ]
    },
    {
      "cell_type": "markdown",
      "metadata": {
        "id": "K2OUe2ntrL9L"
      },
      "source": [
        "## MA5"
      ]
    },
    {
      "cell_type": "code",
      "execution_count": null,
      "metadata": {
        "id": "nkQNQmRkrC1s"
      },
      "outputs": [],
      "source": [
        "count= 0\n",
        "df2 = pd.DataFrame()\n",
        "for i in months:\n",
        "  url = 'https://www.alphavantage.co/query?function=SMA&symbol=AAPL&interval=5min&time_period=5&month={}&datatype=csv&series_type=open&apikey=myapikey'.format(i)\n",
        "  data = pd.read_csv(url)\n",
        "  df2 = pd.concat([df2,data])\n",
        "  count += 1\n",
        "  if count % 100 == 0:\n",
        "    time.sleep(70)\n",
        "  print(len(df2))"
      ]
    },
    {
      "cell_type": "code",
      "execution_count": 61,
      "metadata": {
        "colab": {
          "base_uri": "https://localhost:8080/",
          "height": 423
        },
        "id": "e-KvNkXQy54r",
        "outputId": "035a1c92-52a1-4d46-861d-7c7ee61dfe19"
      },
      "outputs": [
        {
          "data": {
            "text/html": [
              "\n",
              "  <div id=\"df-41f3313b-8ad5-4923-a27a-1f71e32dd1fa\" class=\"colab-df-container\">\n",
              "    <div>\n",
              "<style scoped>\n",
              "    .dataframe tbody tr th:only-of-type {\n",
              "        vertical-align: middle;\n",
              "    }\n",
              "\n",
              "    .dataframe tbody tr th {\n",
              "        vertical-align: top;\n",
              "    }\n",
              "\n",
              "    .dataframe thead th {\n",
              "        text-align: right;\n",
              "    }\n",
              "</style>\n",
              "<table border=\"1\" class=\"dataframe\">\n",
              "  <thead>\n",
              "    <tr style=\"text-align: right;\">\n",
              "      <th></th>\n",
              "      <th>time</th>\n",
              "      <th>SMA</th>\n",
              "    </tr>\n",
              "  </thead>\n",
              "  <tbody>\n",
              "    <tr>\n",
              "      <th>0</th>\n",
              "      <td>2000-01-31 16:00</td>\n",
              "      <td>0.7706</td>\n",
              "    </tr>\n",
              "    <tr>\n",
              "      <th>1</th>\n",
              "      <td>2000-01-31 15:55</td>\n",
              "      <td>0.7656</td>\n",
              "    </tr>\n",
              "    <tr>\n",
              "      <th>2</th>\n",
              "      <td>2000-01-31 15:50</td>\n",
              "      <td>0.7616</td>\n",
              "    </tr>\n",
              "    <tr>\n",
              "      <th>3</th>\n",
              "      <td>2000-01-31 15:45</td>\n",
              "      <td>0.7584</td>\n",
              "    </tr>\n",
              "    <tr>\n",
              "      <th>4</th>\n",
              "      <td>2000-01-31 15:40</td>\n",
              "      <td>0.7566</td>\n",
              "    </tr>\n",
              "    <tr>\n",
              "      <th>...</th>\n",
              "      <td>...</td>\n",
              "      <td>...</td>\n",
              "    </tr>\n",
              "    <tr>\n",
              "      <th>1335</th>\n",
              "      <td>2023-10-02 04:40</td>\n",
              "      <td>172.5620</td>\n",
              "    </tr>\n",
              "    <tr>\n",
              "      <th>1336</th>\n",
              "      <td>2023-10-02 04:35</td>\n",
              "      <td>172.5360</td>\n",
              "    </tr>\n",
              "    <tr>\n",
              "      <th>1337</th>\n",
              "      <td>2023-10-02 04:30</td>\n",
              "      <td>172.5820</td>\n",
              "    </tr>\n",
              "    <tr>\n",
              "      <th>1338</th>\n",
              "      <td>2023-10-02 04:25</td>\n",
              "      <td>172.6460</td>\n",
              "    </tr>\n",
              "    <tr>\n",
              "      <th>1339</th>\n",
              "      <td>2023-10-02 04:20</td>\n",
              "      <td>172.5760</td>\n",
              "    </tr>\n",
              "  </tbody>\n",
              "</table>\n",
              "<p>878876 rows × 2 columns</p>\n",
              "</div>\n",
              "    <div class=\"colab-df-buttons\">\n",
              "\n",
              "  <div class=\"colab-df-container\">\n",
              "    <button class=\"colab-df-convert\" onclick=\"convertToInteractive('df-41f3313b-8ad5-4923-a27a-1f71e32dd1fa')\"\n",
              "            title=\"Convert this dataframe to an interactive table.\"\n",
              "            style=\"display:none;\">\n",
              "\n",
              "  <svg xmlns=\"http://www.w3.org/2000/svg\" height=\"24px\" viewBox=\"0 -960 960 960\">\n",
              "    <path d=\"M120-120v-720h720v720H120Zm60-500h600v-160H180v160Zm220 220h160v-160H400v160Zm0 220h160v-160H400v160ZM180-400h160v-160H180v160Zm440 0h160v-160H620v160ZM180-180h160v-160H180v160Zm440 0h160v-160H620v160Z\"/>\n",
              "  </svg>\n",
              "    </button>\n",
              "\n",
              "  <style>\n",
              "    .colab-df-container {\n",
              "      display:flex;\n",
              "      gap: 12px;\n",
              "    }\n",
              "\n",
              "    .colab-df-convert {\n",
              "      background-color: #E8F0FE;\n",
              "      border: none;\n",
              "      border-radius: 50%;\n",
              "      cursor: pointer;\n",
              "      display: none;\n",
              "      fill: #1967D2;\n",
              "      height: 32px;\n",
              "      padding: 0 0 0 0;\n",
              "      width: 32px;\n",
              "    }\n",
              "\n",
              "    .colab-df-convert:hover {\n",
              "      background-color: #E2EBFA;\n",
              "      box-shadow: 0px 1px 2px rgba(60, 64, 67, 0.3), 0px 1px 3px 1px rgba(60, 64, 67, 0.15);\n",
              "      fill: #174EA6;\n",
              "    }\n",
              "\n",
              "    .colab-df-buttons div {\n",
              "      margin-bottom: 4px;\n",
              "    }\n",
              "\n",
              "    [theme=dark] .colab-df-convert {\n",
              "      background-color: #3B4455;\n",
              "      fill: #D2E3FC;\n",
              "    }\n",
              "\n",
              "    [theme=dark] .colab-df-convert:hover {\n",
              "      background-color: #434B5C;\n",
              "      box-shadow: 0px 1px 3px 1px rgba(0, 0, 0, 0.15);\n",
              "      filter: drop-shadow(0px 1px 2px rgba(0, 0, 0, 0.3));\n",
              "      fill: #FFFFFF;\n",
              "    }\n",
              "  </style>\n",
              "\n",
              "    <script>\n",
              "      const buttonEl =\n",
              "        document.querySelector('#df-41f3313b-8ad5-4923-a27a-1f71e32dd1fa button.colab-df-convert');\n",
              "      buttonEl.style.display =\n",
              "        google.colab.kernel.accessAllowed ? 'block' : 'none';\n",
              "\n",
              "      async function convertToInteractive(key) {\n",
              "        const element = document.querySelector('#df-41f3313b-8ad5-4923-a27a-1f71e32dd1fa');\n",
              "        const dataTable =\n",
              "          await google.colab.kernel.invokeFunction('convertToInteractive',\n",
              "                                                    [key], {});\n",
              "        if (!dataTable) return;\n",
              "\n",
              "        const docLinkHtml = 'Like what you see? Visit the ' +\n",
              "          '<a target=\"_blank\" href=https://colab.research.google.com/notebooks/data_table.ipynb>data table notebook</a>'\n",
              "          + ' to learn more about interactive tables.';\n",
              "        element.innerHTML = '';\n",
              "        dataTable['output_type'] = 'display_data';\n",
              "        await google.colab.output.renderOutput(dataTable, element);\n",
              "        const docLink = document.createElement('div');\n",
              "        docLink.innerHTML = docLinkHtml;\n",
              "        element.appendChild(docLink);\n",
              "      }\n",
              "    </script>\n",
              "  </div>\n",
              "\n",
              "\n",
              "<div id=\"df-81a405e6-e692-4ec7-8ab9-e5433ee6ccd7\">\n",
              "  <button class=\"colab-df-quickchart\" onclick=\"quickchart('df-81a405e6-e692-4ec7-8ab9-e5433ee6ccd7')\"\n",
              "            title=\"Suggest charts.\"\n",
              "            style=\"display:none;\">\n",
              "\n",
              "<svg xmlns=\"http://www.w3.org/2000/svg\" height=\"24px\"viewBox=\"0 0 24 24\"\n",
              "     width=\"24px\">\n",
              "    <g>\n",
              "        <path d=\"M19 3H5c-1.1 0-2 .9-2 2v14c0 1.1.9 2 2 2h14c1.1 0 2-.9 2-2V5c0-1.1-.9-2-2-2zM9 17H7v-7h2v7zm4 0h-2V7h2v10zm4 0h-2v-4h2v4z\"/>\n",
              "    </g>\n",
              "</svg>\n",
              "  </button>\n",
              "\n",
              "<style>\n",
              "  .colab-df-quickchart {\n",
              "      --bg-color: #E8F0FE;\n",
              "      --fill-color: #1967D2;\n",
              "      --hover-bg-color: #E2EBFA;\n",
              "      --hover-fill-color: #174EA6;\n",
              "      --disabled-fill-color: #AAA;\n",
              "      --disabled-bg-color: #DDD;\n",
              "  }\n",
              "\n",
              "  [theme=dark] .colab-df-quickchart {\n",
              "      --bg-color: #3B4455;\n",
              "      --fill-color: #D2E3FC;\n",
              "      --hover-bg-color: #434B5C;\n",
              "      --hover-fill-color: #FFFFFF;\n",
              "      --disabled-bg-color: #3B4455;\n",
              "      --disabled-fill-color: #666;\n",
              "  }\n",
              "\n",
              "  .colab-df-quickchart {\n",
              "    background-color: var(--bg-color);\n",
              "    border: none;\n",
              "    border-radius: 50%;\n",
              "    cursor: pointer;\n",
              "    display: none;\n",
              "    fill: var(--fill-color);\n",
              "    height: 32px;\n",
              "    padding: 0;\n",
              "    width: 32px;\n",
              "  }\n",
              "\n",
              "  .colab-df-quickchart:hover {\n",
              "    background-color: var(--hover-bg-color);\n",
              "    box-shadow: 0 1px 2px rgba(60, 64, 67, 0.3), 0 1px 3px 1px rgba(60, 64, 67, 0.15);\n",
              "    fill: var(--button-hover-fill-color);\n",
              "  }\n",
              "\n",
              "  .colab-df-quickchart-complete:disabled,\n",
              "  .colab-df-quickchart-complete:disabled:hover {\n",
              "    background-color: var(--disabled-bg-color);\n",
              "    fill: var(--disabled-fill-color);\n",
              "    box-shadow: none;\n",
              "  }\n",
              "\n",
              "  .colab-df-spinner {\n",
              "    border: 2px solid var(--fill-color);\n",
              "    border-color: transparent;\n",
              "    border-bottom-color: var(--fill-color);\n",
              "    animation:\n",
              "      spin 1s steps(1) infinite;\n",
              "  }\n",
              "\n",
              "  @keyframes spin {\n",
              "    0% {\n",
              "      border-color: transparent;\n",
              "      border-bottom-color: var(--fill-color);\n",
              "      border-left-color: var(--fill-color);\n",
              "    }\n",
              "    20% {\n",
              "      border-color: transparent;\n",
              "      border-left-color: var(--fill-color);\n",
              "      border-top-color: var(--fill-color);\n",
              "    }\n",
              "    30% {\n",
              "      border-color: transparent;\n",
              "      border-left-color: var(--fill-color);\n",
              "      border-top-color: var(--fill-color);\n",
              "      border-right-color: var(--fill-color);\n",
              "    }\n",
              "    40% {\n",
              "      border-color: transparent;\n",
              "      border-right-color: var(--fill-color);\n",
              "      border-top-color: var(--fill-color);\n",
              "    }\n",
              "    60% {\n",
              "      border-color: transparent;\n",
              "      border-right-color: var(--fill-color);\n",
              "    }\n",
              "    80% {\n",
              "      border-color: transparent;\n",
              "      border-right-color: var(--fill-color);\n",
              "      border-bottom-color: var(--fill-color);\n",
              "    }\n",
              "    90% {\n",
              "      border-color: transparent;\n",
              "      border-bottom-color: var(--fill-color);\n",
              "    }\n",
              "  }\n",
              "</style>\n",
              "\n",
              "  <script>\n",
              "    async function quickchart(key) {\n",
              "      const quickchartButtonEl =\n",
              "        document.querySelector('#' + key + ' button');\n",
              "      quickchartButtonEl.disabled = true;  // To prevent multiple clicks.\n",
              "      quickchartButtonEl.classList.add('colab-df-spinner');\n",
              "      try {\n",
              "        const charts = await google.colab.kernel.invokeFunction(\n",
              "            'suggestCharts', [key], {});\n",
              "      } catch (error) {\n",
              "        console.error('Error during call to suggestCharts:', error);\n",
              "      }\n",
              "      quickchartButtonEl.classList.remove('colab-df-spinner');\n",
              "      quickchartButtonEl.classList.add('colab-df-quickchart-complete');\n",
              "    }\n",
              "    (() => {\n",
              "      let quickchartButtonEl =\n",
              "        document.querySelector('#df-81a405e6-e692-4ec7-8ab9-e5433ee6ccd7 button');\n",
              "      quickchartButtonEl.style.display =\n",
              "        google.colab.kernel.accessAllowed ? 'block' : 'none';\n",
              "    })();\n",
              "  </script>\n",
              "</div>\n",
              "    </div>\n",
              "  </div>\n"
            ],
            "text/plain": [
              "                  time       SMA\n",
              "0     2000-01-31 16:00    0.7706\n",
              "1     2000-01-31 15:55    0.7656\n",
              "2     2000-01-31 15:50    0.7616\n",
              "3     2000-01-31 15:45    0.7584\n",
              "4     2000-01-31 15:40    0.7566\n",
              "...                ...       ...\n",
              "1335  2023-10-02 04:40  172.5620\n",
              "1336  2023-10-02 04:35  172.5360\n",
              "1337  2023-10-02 04:30  172.5820\n",
              "1338  2023-10-02 04:25  172.6460\n",
              "1339  2023-10-02 04:20  172.5760\n",
              "\n",
              "[878876 rows x 2 columns]"
            ]
          },
          "execution_count": 61,
          "metadata": {},
          "output_type": "execute_result"
        }
      ],
      "source": [
        "df2"
      ]
    },
    {
      "cell_type": "code",
      "execution_count": 62,
      "metadata": {
        "id": "QDqFKG2grUp4"
      },
      "outputs": [],
      "source": [
        "df2.to_csv('ma5.csv')"
      ]
    },
    {
      "cell_type": "code",
      "execution_count": 63,
      "metadata": {
        "colab": {
          "base_uri": "https://localhost:8080/"
        },
        "id": "E9NfOsNIrTAD",
        "outputId": "0a6bf499-ab8b-4c58-bac0-0e0fdc6c0229"
      },
      "outputs": [
        {
          "data": {
            "text/plain": [
              "<snowflake.connector.cursor.SnowflakeCursor at 0x7b2208d241c0>"
            ]
          },
          "execution_count": 63,
          "metadata": {},
          "output_type": "execute_result"
        }
      ],
      "source": [
        "cur.execute(\"CREATE OR REPLACE STAGE MADATA FILE_FORMAT = (TYPE = 'CSV')\")\n",
        "cur.execute(\"\"\"\n",
        "    PUT file://ma5.csv @MADATA\n",
        "\"\"\")"
      ]
    },
    {
      "cell_type": "code",
      "execution_count": 64,
      "metadata": {
        "colab": {
          "base_uri": "https://localhost:8080/"
        },
        "id": "Dp2FC_YRralt",
        "outputId": "f5f497f9-c24a-45f7-bfc7-330166f77506"
      },
      "outputs": [
        {
          "data": {
            "text/plain": [
              "<snowflake.connector.cursor.SnowflakeCursor at 0x7b2208d241c0>"
            ]
          },
          "execution_count": 64,
          "metadata": {},
          "output_type": "execute_result"
        }
      ],
      "source": [
        "cur.execute(\"\"\"CREATE TABLE IF NOT EXISTS MA5 (\n",
        "        rownum integer,\n",
        "        TIMESTAMP TIMESTAMP,\n",
        "        SMA FLOAT\n",
        ")\"\"\")"
      ]
    },
    {
      "cell_type": "code",
      "execution_count": 65,
      "metadata": {
        "colab": {
          "base_uri": "https://localhost:8080/"
        },
        "id": "md0lwx_8rdw4",
        "outputId": "b58b9aed-7d01-412a-d9f4-52011c947ad5"
      },
      "outputs": [
        {
          "data": {
            "text/plain": [
              "<snowflake.connector.cursor.SnowflakeCursor at 0x7b2208d241c0>"
            ]
          },
          "execution_count": 65,
          "metadata": {},
          "output_type": "execute_result"
        }
      ],
      "source": [
        "copy_command = \"\"\"\n",
        "COPY INTO MA5\n",
        "FROM @AAPL_DATABASE.FIRSTATTEMPT.MADATA\n",
        "FILE_FORMAT = (TYPE = 'CSV' skip_header = 1)\n",
        "ON_ERROR = 'CONTINUE'\n",
        "\"\"\"\n",
        "cur.execute(copy_command)"
      ]
    },
    {
      "cell_type": "markdown",
      "metadata": {
        "id": "bVz5ntCjrePE"
      },
      "source": [
        "## MA 50"
      ]
    },
    {
      "cell_type": "code",
      "execution_count": null,
      "metadata": {
        "id": "t2iAqwsdrfA0"
      },
      "outputs": [],
      "source": [
        "count= 0\n",
        "df3 = pd.DataFrame()\n",
        "for i in months:\n",
        "  url = 'https://www.alphavantage.co/query?function=SMA&symbol=AAPL&interval=5min&time_period=50&month={}&datatype=csv&series_type=open&apikey=myapikey'.format(i)\n",
        "  data = pd.read_csv(url)\n",
        "  df3 = pd.concat([df3,data])\n",
        "  count += 1\n",
        "  if count % 100 == 0:\n",
        "    time.sleep(70)\n",
        "  print(len(df3))"
      ]
    },
    {
      "cell_type": "code",
      "execution_count": 68,
      "metadata": {
        "id": "-_4ct_tIrgcp"
      },
      "outputs": [],
      "source": [
        "df3.to_csv('ma50.csv')"
      ]
    },
    {
      "cell_type": "code",
      "execution_count": 69,
      "metadata": {
        "colab": {
          "base_uri": "https://localhost:8080/"
        },
        "id": "OkjbHujuriZP",
        "outputId": "f91851ba-83d0-4c79-dc03-293fddc60666"
      },
      "outputs": [
        {
          "data": {
            "text/plain": [
              "<snowflake.connector.cursor.SnowflakeCursor at 0x7b2208d241c0>"
            ]
          },
          "execution_count": 69,
          "metadata": {},
          "output_type": "execute_result"
        }
      ],
      "source": [
        "cur.execute(\"\"\"\n",
        "    PUT file://ma50.csv @MADATA\n",
        "\"\"\")\n",
        "cur.execute(\"\"\"CREATE TABLE IF NOT EXISTS MA50 (\n",
        "        rownum integer,\n",
        "        TIMESTAMP TIMESTAMP,\n",
        "        SMA FLOAT\n",
        ")\"\"\")"
      ]
    },
    {
      "cell_type": "code",
      "execution_count": 70,
      "metadata": {
        "colab": {
          "base_uri": "https://localhost:8080/"
        },
        "id": "-4Ei76bLrjjk",
        "outputId": "285b1b12-9a79-42fa-eebe-3311d9d9f5ae"
      },
      "outputs": [
        {
          "data": {
            "text/plain": [
              "<snowflake.connector.cursor.SnowflakeCursor at 0x7b2208d241c0>"
            ]
          },
          "execution_count": 70,
          "metadata": {},
          "output_type": "execute_result"
        }
      ],
      "source": [
        "copy_command = \"\"\"\n",
        "COPY INTO MA50\n",
        "FROM @AAPL_DATABASE.FIRSTATTEMPT.MADATA/ma50.csv\n",
        "FILE_FORMAT = (TYPE = 'CSV' skip_header = 1)\n",
        "ON_ERROR = 'CONTINUE'\n",
        "\"\"\"\n",
        "cur.execute(copy_command)"
      ]
    },
    {
      "cell_type": "markdown",
      "metadata": {
        "id": "oz7tz-txrkgl"
      },
      "source": [
        "## RSI 14"
      ]
    },
    {
      "cell_type": "code",
      "execution_count": null,
      "metadata": {
        "id": "PvoiUjbLrlfK"
      },
      "outputs": [],
      "source": [
        "count= 0\n",
        "df4 = pd.DataFrame()\n",
        "for i in months:\n",
        "  url = 'https://www.alphavantage.co/query?function=RSI&symbol=AAPL&interval=5min&time_period=14&month={}&datatype=csv&series_type=open&apikey=myapikey'.format(i)\n",
        "  data = pd.read_csv(url)\n",
        "  df4 = pd.concat([df4,data])\n",
        "  count += 1\n",
        "  if count % 100 == 0:\n",
        "    time.sleep(70)\n",
        "  print(len(df4))"
      ]
    },
    {
      "cell_type": "code",
      "execution_count": 48,
      "metadata": {
        "colab": {
          "base_uri": "https://localhost:8080/",
          "height": 423
        },
        "id": "mJuUm5S2vTIa",
        "outputId": "df014d56-ba0f-4c3b-a12c-15e7c77587e7"
      },
      "outputs": [
        {
          "data": {
            "text/html": [
              "\n",
              "  <div id=\"df-7441c39e-a935-4bc8-9bf4-a23327da51fc\" class=\"colab-df-container\">\n",
              "    <div>\n",
              "<style scoped>\n",
              "    .dataframe tbody tr th:only-of-type {\n",
              "        vertical-align: middle;\n",
              "    }\n",
              "\n",
              "    .dataframe tbody tr th {\n",
              "        vertical-align: top;\n",
              "    }\n",
              "\n",
              "    .dataframe thead th {\n",
              "        text-align: right;\n",
              "    }\n",
              "</style>\n",
              "<table border=\"1\" class=\"dataframe\">\n",
              "  <thead>\n",
              "    <tr style=\"text-align: right;\">\n",
              "      <th></th>\n",
              "      <th>time</th>\n",
              "      <th>RSI</th>\n",
              "    </tr>\n",
              "  </thead>\n",
              "  <tbody>\n",
              "    <tr>\n",
              "      <th>0</th>\n",
              "      <td>2000-01-31 16:00</td>\n",
              "      <td>77.9789</td>\n",
              "    </tr>\n",
              "    <tr>\n",
              "      <th>1</th>\n",
              "      <td>2000-01-31 15:55</td>\n",
              "      <td>73.3184</td>\n",
              "    </tr>\n",
              "    <tr>\n",
              "      <th>2</th>\n",
              "      <td>2000-01-31 15:50</td>\n",
              "      <td>72.3296</td>\n",
              "    </tr>\n",
              "    <tr>\n",
              "      <th>3</th>\n",
              "      <td>2000-01-31 15:45</td>\n",
              "      <td>65.1308</td>\n",
              "    </tr>\n",
              "    <tr>\n",
              "      <th>4</th>\n",
              "      <td>2000-01-31 15:40</td>\n",
              "      <td>62.8895</td>\n",
              "    </tr>\n",
              "    <tr>\n",
              "      <th>...</th>\n",
              "      <td>...</td>\n",
              "      <td>...</td>\n",
              "    </tr>\n",
              "    <tr>\n",
              "      <th>1325</th>\n",
              "      <td>2023-10-02 05:30</td>\n",
              "      <td>44.8452</td>\n",
              "    </tr>\n",
              "    <tr>\n",
              "      <th>1326</th>\n",
              "      <td>2023-10-02 05:25</td>\n",
              "      <td>47.2831</td>\n",
              "    </tr>\n",
              "    <tr>\n",
              "      <th>1327</th>\n",
              "      <td>2023-10-02 05:20</td>\n",
              "      <td>43.8838</td>\n",
              "    </tr>\n",
              "    <tr>\n",
              "      <th>1328</th>\n",
              "      <td>2023-10-02 05:15</td>\n",
              "      <td>52.8497</td>\n",
              "    </tr>\n",
              "    <tr>\n",
              "      <th>1329</th>\n",
              "      <td>2023-10-02 05:10</td>\n",
              "      <td>52.8497</td>\n",
              "    </tr>\n",
              "  </tbody>\n",
              "</table>\n",
              "<p>876016 rows × 2 columns</p>\n",
              "</div>\n",
              "    <div class=\"colab-df-buttons\">\n",
              "\n",
              "  <div class=\"colab-df-container\">\n",
              "    <button class=\"colab-df-convert\" onclick=\"convertToInteractive('df-7441c39e-a935-4bc8-9bf4-a23327da51fc')\"\n",
              "            title=\"Convert this dataframe to an interactive table.\"\n",
              "            style=\"display:none;\">\n",
              "\n",
              "  <svg xmlns=\"http://www.w3.org/2000/svg\" height=\"24px\" viewBox=\"0 -960 960 960\">\n",
              "    <path d=\"M120-120v-720h720v720H120Zm60-500h600v-160H180v160Zm220 220h160v-160H400v160Zm0 220h160v-160H400v160ZM180-400h160v-160H180v160Zm440 0h160v-160H620v160ZM180-180h160v-160H180v160Zm440 0h160v-160H620v160Z\"/>\n",
              "  </svg>\n",
              "    </button>\n",
              "\n",
              "  <style>\n",
              "    .colab-df-container {\n",
              "      display:flex;\n",
              "      gap: 12px;\n",
              "    }\n",
              "\n",
              "    .colab-df-convert {\n",
              "      background-color: #E8F0FE;\n",
              "      border: none;\n",
              "      border-radius: 50%;\n",
              "      cursor: pointer;\n",
              "      display: none;\n",
              "      fill: #1967D2;\n",
              "      height: 32px;\n",
              "      padding: 0 0 0 0;\n",
              "      width: 32px;\n",
              "    }\n",
              "\n",
              "    .colab-df-convert:hover {\n",
              "      background-color: #E2EBFA;\n",
              "      box-shadow: 0px 1px 2px rgba(60, 64, 67, 0.3), 0px 1px 3px 1px rgba(60, 64, 67, 0.15);\n",
              "      fill: #174EA6;\n",
              "    }\n",
              "\n",
              "    .colab-df-buttons div {\n",
              "      margin-bottom: 4px;\n",
              "    }\n",
              "\n",
              "    [theme=dark] .colab-df-convert {\n",
              "      background-color: #3B4455;\n",
              "      fill: #D2E3FC;\n",
              "    }\n",
              "\n",
              "    [theme=dark] .colab-df-convert:hover {\n",
              "      background-color: #434B5C;\n",
              "      box-shadow: 0px 1px 3px 1px rgba(0, 0, 0, 0.15);\n",
              "      filter: drop-shadow(0px 1px 2px rgba(0, 0, 0, 0.3));\n",
              "      fill: #FFFFFF;\n",
              "    }\n",
              "  </style>\n",
              "\n",
              "    <script>\n",
              "      const buttonEl =\n",
              "        document.querySelector('#df-7441c39e-a935-4bc8-9bf4-a23327da51fc button.colab-df-convert');\n",
              "      buttonEl.style.display =\n",
              "        google.colab.kernel.accessAllowed ? 'block' : 'none';\n",
              "\n",
              "      async function convertToInteractive(key) {\n",
              "        const element = document.querySelector('#df-7441c39e-a935-4bc8-9bf4-a23327da51fc');\n",
              "        const dataTable =\n",
              "          await google.colab.kernel.invokeFunction('convertToInteractive',\n",
              "                                                    [key], {});\n",
              "        if (!dataTable) return;\n",
              "\n",
              "        const docLinkHtml = 'Like what you see? Visit the ' +\n",
              "          '<a target=\"_blank\" href=https://colab.research.google.com/notebooks/data_table.ipynb>data table notebook</a>'\n",
              "          + ' to learn more about interactive tables.';\n",
              "        element.innerHTML = '';\n",
              "        dataTable['output_type'] = 'display_data';\n",
              "        await google.colab.output.renderOutput(dataTable, element);\n",
              "        const docLink = document.createElement('div');\n",
              "        docLink.innerHTML = docLinkHtml;\n",
              "        element.appendChild(docLink);\n",
              "      }\n",
              "    </script>\n",
              "  </div>\n",
              "\n",
              "\n",
              "<div id=\"df-c58f9280-d92f-4b0b-80a1-e40fe6735cef\">\n",
              "  <button class=\"colab-df-quickchart\" onclick=\"quickchart('df-c58f9280-d92f-4b0b-80a1-e40fe6735cef')\"\n",
              "            title=\"Suggest charts.\"\n",
              "            style=\"display:none;\">\n",
              "\n",
              "<svg xmlns=\"http://www.w3.org/2000/svg\" height=\"24px\"viewBox=\"0 0 24 24\"\n",
              "     width=\"24px\">\n",
              "    <g>\n",
              "        <path d=\"M19 3H5c-1.1 0-2 .9-2 2v14c0 1.1.9 2 2 2h14c1.1 0 2-.9 2-2V5c0-1.1-.9-2-2-2zM9 17H7v-7h2v7zm4 0h-2V7h2v10zm4 0h-2v-4h2v4z\"/>\n",
              "    </g>\n",
              "</svg>\n",
              "  </button>\n",
              "\n",
              "<style>\n",
              "  .colab-df-quickchart {\n",
              "      --bg-color: #E8F0FE;\n",
              "      --fill-color: #1967D2;\n",
              "      --hover-bg-color: #E2EBFA;\n",
              "      --hover-fill-color: #174EA6;\n",
              "      --disabled-fill-color: #AAA;\n",
              "      --disabled-bg-color: #DDD;\n",
              "  }\n",
              "\n",
              "  [theme=dark] .colab-df-quickchart {\n",
              "      --bg-color: #3B4455;\n",
              "      --fill-color: #D2E3FC;\n",
              "      --hover-bg-color: #434B5C;\n",
              "      --hover-fill-color: #FFFFFF;\n",
              "      --disabled-bg-color: #3B4455;\n",
              "      --disabled-fill-color: #666;\n",
              "  }\n",
              "\n",
              "  .colab-df-quickchart {\n",
              "    background-color: var(--bg-color);\n",
              "    border: none;\n",
              "    border-radius: 50%;\n",
              "    cursor: pointer;\n",
              "    display: none;\n",
              "    fill: var(--fill-color);\n",
              "    height: 32px;\n",
              "    padding: 0;\n",
              "    width: 32px;\n",
              "  }\n",
              "\n",
              "  .colab-df-quickchart:hover {\n",
              "    background-color: var(--hover-bg-color);\n",
              "    box-shadow: 0 1px 2px rgba(60, 64, 67, 0.3), 0 1px 3px 1px rgba(60, 64, 67, 0.15);\n",
              "    fill: var(--button-hover-fill-color);\n",
              "  }\n",
              "\n",
              "  .colab-df-quickchart-complete:disabled,\n",
              "  .colab-df-quickchart-complete:disabled:hover {\n",
              "    background-color: var(--disabled-bg-color);\n",
              "    fill: var(--disabled-fill-color);\n",
              "    box-shadow: none;\n",
              "  }\n",
              "\n",
              "  .colab-df-spinner {\n",
              "    border: 2px solid var(--fill-color);\n",
              "    border-color: transparent;\n",
              "    border-bottom-color: var(--fill-color);\n",
              "    animation:\n",
              "      spin 1s steps(1) infinite;\n",
              "  }\n",
              "\n",
              "  @keyframes spin {\n",
              "    0% {\n",
              "      border-color: transparent;\n",
              "      border-bottom-color: var(--fill-color);\n",
              "      border-left-color: var(--fill-color);\n",
              "    }\n",
              "    20% {\n",
              "      border-color: transparent;\n",
              "      border-left-color: var(--fill-color);\n",
              "      border-top-color: var(--fill-color);\n",
              "    }\n",
              "    30% {\n",
              "      border-color: transparent;\n",
              "      border-left-color: var(--fill-color);\n",
              "      border-top-color: var(--fill-color);\n",
              "      border-right-color: var(--fill-color);\n",
              "    }\n",
              "    40% {\n",
              "      border-color: transparent;\n",
              "      border-right-color: var(--fill-color);\n",
              "      border-top-color: var(--fill-color);\n",
              "    }\n",
              "    60% {\n",
              "      border-color: transparent;\n",
              "      border-right-color: var(--fill-color);\n",
              "    }\n",
              "    80% {\n",
              "      border-color: transparent;\n",
              "      border-right-color: var(--fill-color);\n",
              "      border-bottom-color: var(--fill-color);\n",
              "    }\n",
              "    90% {\n",
              "      border-color: transparent;\n",
              "      border-bottom-color: var(--fill-color);\n",
              "    }\n",
              "  }\n",
              "</style>\n",
              "\n",
              "  <script>\n",
              "    async function quickchart(key) {\n",
              "      const quickchartButtonEl =\n",
              "        document.querySelector('#' + key + ' button');\n",
              "      quickchartButtonEl.disabled = true;  // To prevent multiple clicks.\n",
              "      quickchartButtonEl.classList.add('colab-df-spinner');\n",
              "      try {\n",
              "        const charts = await google.colab.kernel.invokeFunction(\n",
              "            'suggestCharts', [key], {});\n",
              "      } catch (error) {\n",
              "        console.error('Error during call to suggestCharts:', error);\n",
              "      }\n",
              "      quickchartButtonEl.classList.remove('colab-df-spinner');\n",
              "      quickchartButtonEl.classList.add('colab-df-quickchart-complete');\n",
              "    }\n",
              "    (() => {\n",
              "      let quickchartButtonEl =\n",
              "        document.querySelector('#df-c58f9280-d92f-4b0b-80a1-e40fe6735cef button');\n",
              "      quickchartButtonEl.style.display =\n",
              "        google.colab.kernel.accessAllowed ? 'block' : 'none';\n",
              "    })();\n",
              "  </script>\n",
              "</div>\n",
              "    </div>\n",
              "  </div>\n"
            ],
            "text/plain": [
              "                  time      RSI\n",
              "0     2000-01-31 16:00  77.9789\n",
              "1     2000-01-31 15:55  73.3184\n",
              "2     2000-01-31 15:50  72.3296\n",
              "3     2000-01-31 15:45  65.1308\n",
              "4     2000-01-31 15:40  62.8895\n",
              "...                ...      ...\n",
              "1325  2023-10-02 05:30  44.8452\n",
              "1326  2023-10-02 05:25  47.2831\n",
              "1327  2023-10-02 05:20  43.8838\n",
              "1328  2023-10-02 05:15  52.8497\n",
              "1329  2023-10-02 05:10  52.8497\n",
              "\n",
              "[876016 rows x 2 columns]"
            ]
          },
          "execution_count": 48,
          "metadata": {},
          "output_type": "execute_result"
        }
      ],
      "source": [
        "df4"
      ]
    },
    {
      "cell_type": "code",
      "execution_count": 52,
      "metadata": {
        "id": "gdIAv5bmrnn1"
      },
      "outputs": [],
      "source": [
        "df4.to_csv('rsi14.csv')"
      ]
    },
    {
      "cell_type": "code",
      "execution_count": 53,
      "metadata": {
        "colab": {
          "base_uri": "https://localhost:8080/"
        },
        "id": "kmuMXtEeroef",
        "outputId": "c61b588b-1ca9-4449-a5f0-38a20804bfc5"
      },
      "outputs": [
        {
          "data": {
            "text/plain": [
              "<snowflake.connector.cursor.SnowflakeCursor at 0x7b2208d241c0>"
            ]
          },
          "execution_count": 53,
          "metadata": {},
          "output_type": "execute_result"
        }
      ],
      "source": [
        "cur.execute(\"CREATE OR Replace stage RSIDATA FILE_FORMAT = (TYPE = 'CSV')\")\n",
        "cur.execute(\"\"\"\n",
        "    PUT file://rsi14.csv @RSIDATA\n",
        "\"\"\")\n",
        "cur.execute(\"\"\"CREATE TABLE IF NOT EXISTS RSI14 (\n",
        "        rownum integer,\n",
        "        TIMESTAMP TIMESTAMP,\n",
        "        RSI FLOAT\n",
        ")\"\"\")"
      ]
    },
    {
      "cell_type": "code",
      "execution_count": 54,
      "metadata": {
        "colab": {
          "base_uri": "https://localhost:8080/"
        },
        "id": "TXgPT9CFrpU8",
        "outputId": "a8c57472-e2b9-4e2a-9369-bff3bbcf5fb7"
      },
      "outputs": [
        {
          "data": {
            "text/plain": [
              "<snowflake.connector.cursor.SnowflakeCursor at 0x7b2208d241c0>"
            ]
          },
          "execution_count": 54,
          "metadata": {},
          "output_type": "execute_result"
        }
      ],
      "source": [
        "copy_command = \"\"\"\n",
        "COPY INTO RSI14\n",
        "FROM @AAPL_DATABASE.FIRSTATTEMPT.RSIDATA\n",
        "FILE_FORMAT = (TYPE = 'CSV' skip_header = 1)\n",
        "ON_ERROR = 'CONTINUE'\n",
        "\"\"\"\n",
        "cur.execute(copy_command)"
      ]
    },
    {
      "cell_type": "markdown",
      "metadata": {
        "id": "JyC6owwTrqfS"
      },
      "source": [
        "## MACD"
      ]
    },
    {
      "cell_type": "code",
      "execution_count": null,
      "metadata": {
        "id": "JuOPMc1PrsMc"
      },
      "outputs": [],
      "source": [
        "count= 0\n",
        "df5 = pd.DataFrame()\n",
        "for i in months:\n",
        "  url = 'https://www.alphavantage.co/query?function=MACD&symbol=AAPL&interval=5min&month={}&datatype=csv&series_type=open&apikey=myapikey'.format(i)\n",
        "  data = pd.read_csv(url)\n",
        "  df5 = pd.concat([df5,data])\n",
        "  count += 1\n",
        "  if count % 300 == 0:\n",
        "    time.sleep(70)\n",
        "  print(len(df5))"
      ]
    },
    {
      "cell_type": "code",
      "execution_count": 34,
      "metadata": {
        "id": "1gEyTaEGruUU"
      },
      "outputs": [],
      "source": [
        "df5.to_csv('macd.csv')"
      ]
    },
    {
      "cell_type": "code",
      "execution_count": 35,
      "metadata": {
        "colab": {
          "base_uri": "https://localhost:8080/"
        },
        "id": "HD5rcKHYrv3s",
        "outputId": "386d0e5d-c606-4598-b2b4-8e75d8a16f23"
      },
      "outputs": [
        {
          "data": {
            "text/plain": [
              "<snowflake.connector.cursor.SnowflakeCursor at 0x7b2208d241c0>"
            ]
          },
          "execution_count": 35,
          "metadata": {},
          "output_type": "execute_result"
        }
      ],
      "source": [
        "cur.execute(\"CREATE STAGE IF NOT EXISTS MACDDATA FILE_FORMAT = (TYPE = 'CSV')\")\n",
        "cur.execute(\"\"\"\n",
        "    PUT file://macd.csv @MACDDATA\n",
        "\"\"\")\n",
        "cur.execute(\"\"\"CREATE TABLE IF NOT EXISTS MACD (\n",
        "        rownum integer,\n",
        "        TIMESTAMP TIMESTAMP,\n",
        "        MACD FLOAT,\n",
        "        MACD_hist FLOAT,\n",
        "        MACD_Signal Float\n",
        ")\"\"\")"
      ]
    },
    {
      "cell_type": "code",
      "execution_count": 36,
      "metadata": {
        "colab": {
          "base_uri": "https://localhost:8080/"
        },
        "id": "SZiD780SrxFP",
        "outputId": "345b6765-f50c-411c-9dfb-628011fe2844"
      },
      "outputs": [
        {
          "data": {
            "text/plain": [
              "<snowflake.connector.cursor.SnowflakeCursor at 0x7b2208d241c0>"
            ]
          },
          "execution_count": 36,
          "metadata": {},
          "output_type": "execute_result"
        }
      ],
      "source": [
        "copy_command = \"\"\"\n",
        "COPY INTO MACD\n",
        "FROM @AAPL_DATABASE.FIRSTATTEMPT.MACDDATA\n",
        "FILE_FORMAT = (TYPE = 'CSV' skip_header = 1)\n",
        "ON_ERROR = 'CONTINUE'\n",
        "\"\"\"\n",
        "cur.execute(copy_command)"
      ]
    },
    {
      "cell_type": "markdown",
      "metadata": {
        "id": "o3kqRSyizvWn"
      },
      "source": [
        "## VWAP"
      ]
    },
    {
      "cell_type": "code",
      "execution_count": null,
      "metadata": {
        "id": "yjdMftJbzwiC"
      },
      "outputs": [],
      "source": [
        "count= 0\n",
        "df6 = pd.DataFrame()\n",
        "for i in months:\n",
        "  url = 'https://www.alphavantage.co/query?function=VWAP&symbol=AAPL&interval=5min&month={}&datatype=csv&apikey=myapikey'.format(i)\n",
        "  data = pd.read_csv(url)\n",
        "  df6 = pd.concat([df6,data])\n",
        "  count += 1\n",
        "  if count % 150 == 0:\n",
        "    time.sleep(70)\n",
        "  print(len(df6))\n"
      ]
    },
    {
      "cell_type": "code",
      "execution_count": 75,
      "metadata": {
        "colab": {
          "base_uri": "https://localhost:8080/",
          "height": 423
        },
        "id": "PqJ-vi6d3I4j",
        "outputId": "3fe5d233-4f2a-4329-ed0d-b33b2870cad6"
      },
      "outputs": [
        {
          "data": {
            "text/html": [
              "\n",
              "  <div id=\"df-3897046c-5401-42dc-a6b5-a880fd2673b9\" class=\"colab-df-container\">\n",
              "    <div>\n",
              "<style scoped>\n",
              "    .dataframe tbody tr th:only-of-type {\n",
              "        vertical-align: middle;\n",
              "    }\n",
              "\n",
              "    .dataframe tbody tr th {\n",
              "        vertical-align: top;\n",
              "    }\n",
              "\n",
              "    .dataframe thead th {\n",
              "        text-align: right;\n",
              "    }\n",
              "</style>\n",
              "<table border=\"1\" class=\"dataframe\">\n",
              "  <thead>\n",
              "    <tr style=\"text-align: right;\">\n",
              "      <th></th>\n",
              "      <th>time</th>\n",
              "      <th>VWAP</th>\n",
              "    </tr>\n",
              "  </thead>\n",
              "  <tbody>\n",
              "    <tr>\n",
              "      <th>0</th>\n",
              "      <td>2000-01-31 16:00</td>\n",
              "      <td>0.7421</td>\n",
              "    </tr>\n",
              "    <tr>\n",
              "      <th>1</th>\n",
              "      <td>2000-01-31 15:55</td>\n",
              "      <td>0.7421</td>\n",
              "    </tr>\n",
              "    <tr>\n",
              "      <th>2</th>\n",
              "      <td>2000-01-31 15:50</td>\n",
              "      <td>0.7411</td>\n",
              "    </tr>\n",
              "    <tr>\n",
              "      <th>3</th>\n",
              "      <td>2000-01-31 15:45</td>\n",
              "      <td>0.7404</td>\n",
              "    </tr>\n",
              "    <tr>\n",
              "      <th>4</th>\n",
              "      <td>2000-01-31 15:40</td>\n",
              "      <td>0.7399</td>\n",
              "    </tr>\n",
              "    <tr>\n",
              "      <th>...</th>\n",
              "      <td>...</td>\n",
              "      <td>...</td>\n",
              "    </tr>\n",
              "    <tr>\n",
              "      <th>1339</th>\n",
              "      <td>2023-10-02 04:20</td>\n",
              "      <td>172.5618</td>\n",
              "    </tr>\n",
              "    <tr>\n",
              "      <th>1340</th>\n",
              "      <td>2023-10-02 04:15</td>\n",
              "      <td>172.5634</td>\n",
              "    </tr>\n",
              "    <tr>\n",
              "      <th>1341</th>\n",
              "      <td>2023-10-02 04:10</td>\n",
              "      <td>172.6172</td>\n",
              "    </tr>\n",
              "    <tr>\n",
              "      <th>1342</th>\n",
              "      <td>2023-10-02 04:05</td>\n",
              "      <td>172.5993</td>\n",
              "    </tr>\n",
              "    <tr>\n",
              "      <th>1343</th>\n",
              "      <td>2023-10-02 04:00</td>\n",
              "      <td>172.5367</td>\n",
              "    </tr>\n",
              "  </tbody>\n",
              "</table>\n",
              "<p>880020 rows × 2 columns</p>\n",
              "</div>\n",
              "    <div class=\"colab-df-buttons\">\n",
              "\n",
              "  <div class=\"colab-df-container\">\n",
              "    <button class=\"colab-df-convert\" onclick=\"convertToInteractive('df-3897046c-5401-42dc-a6b5-a880fd2673b9')\"\n",
              "            title=\"Convert this dataframe to an interactive table.\"\n",
              "            style=\"display:none;\">\n",
              "\n",
              "  <svg xmlns=\"http://www.w3.org/2000/svg\" height=\"24px\" viewBox=\"0 -960 960 960\">\n",
              "    <path d=\"M120-120v-720h720v720H120Zm60-500h600v-160H180v160Zm220 220h160v-160H400v160Zm0 220h160v-160H400v160ZM180-400h160v-160H180v160Zm440 0h160v-160H620v160ZM180-180h160v-160H180v160Zm440 0h160v-160H620v160Z\"/>\n",
              "  </svg>\n",
              "    </button>\n",
              "\n",
              "  <style>\n",
              "    .colab-df-container {\n",
              "      display:flex;\n",
              "      gap: 12px;\n",
              "    }\n",
              "\n",
              "    .colab-df-convert {\n",
              "      background-color: #E8F0FE;\n",
              "      border: none;\n",
              "      border-radius: 50%;\n",
              "      cursor: pointer;\n",
              "      display: none;\n",
              "      fill: #1967D2;\n",
              "      height: 32px;\n",
              "      padding: 0 0 0 0;\n",
              "      width: 32px;\n",
              "    }\n",
              "\n",
              "    .colab-df-convert:hover {\n",
              "      background-color: #E2EBFA;\n",
              "      box-shadow: 0px 1px 2px rgba(60, 64, 67, 0.3), 0px 1px 3px 1px rgba(60, 64, 67, 0.15);\n",
              "      fill: #174EA6;\n",
              "    }\n",
              "\n",
              "    .colab-df-buttons div {\n",
              "      margin-bottom: 4px;\n",
              "    }\n",
              "\n",
              "    [theme=dark] .colab-df-convert {\n",
              "      background-color: #3B4455;\n",
              "      fill: #D2E3FC;\n",
              "    }\n",
              "\n",
              "    [theme=dark] .colab-df-convert:hover {\n",
              "      background-color: #434B5C;\n",
              "      box-shadow: 0px 1px 3px 1px rgba(0, 0, 0, 0.15);\n",
              "      filter: drop-shadow(0px 1px 2px rgba(0, 0, 0, 0.3));\n",
              "      fill: #FFFFFF;\n",
              "    }\n",
              "  </style>\n",
              "\n",
              "    <script>\n",
              "      const buttonEl =\n",
              "        document.querySelector('#df-3897046c-5401-42dc-a6b5-a880fd2673b9 button.colab-df-convert');\n",
              "      buttonEl.style.display =\n",
              "        google.colab.kernel.accessAllowed ? 'block' : 'none';\n",
              "\n",
              "      async function convertToInteractive(key) {\n",
              "        const element = document.querySelector('#df-3897046c-5401-42dc-a6b5-a880fd2673b9');\n",
              "        const dataTable =\n",
              "          await google.colab.kernel.invokeFunction('convertToInteractive',\n",
              "                                                    [key], {});\n",
              "        if (!dataTable) return;\n",
              "\n",
              "        const docLinkHtml = 'Like what you see? Visit the ' +\n",
              "          '<a target=\"_blank\" href=https://colab.research.google.com/notebooks/data_table.ipynb>data table notebook</a>'\n",
              "          + ' to learn more about interactive tables.';\n",
              "        element.innerHTML = '';\n",
              "        dataTable['output_type'] = 'display_data';\n",
              "        await google.colab.output.renderOutput(dataTable, element);\n",
              "        const docLink = document.createElement('div');\n",
              "        docLink.innerHTML = docLinkHtml;\n",
              "        element.appendChild(docLink);\n",
              "      }\n",
              "    </script>\n",
              "  </div>\n",
              "\n",
              "\n",
              "<div id=\"df-82bdf373-87ff-4a10-ab19-0ac7099da614\">\n",
              "  <button class=\"colab-df-quickchart\" onclick=\"quickchart('df-82bdf373-87ff-4a10-ab19-0ac7099da614')\"\n",
              "            title=\"Suggest charts.\"\n",
              "            style=\"display:none;\">\n",
              "\n",
              "<svg xmlns=\"http://www.w3.org/2000/svg\" height=\"24px\"viewBox=\"0 0 24 24\"\n",
              "     width=\"24px\">\n",
              "    <g>\n",
              "        <path d=\"M19 3H5c-1.1 0-2 .9-2 2v14c0 1.1.9 2 2 2h14c1.1 0 2-.9 2-2V5c0-1.1-.9-2-2-2zM9 17H7v-7h2v7zm4 0h-2V7h2v10zm4 0h-2v-4h2v4z\"/>\n",
              "    </g>\n",
              "</svg>\n",
              "  </button>\n",
              "\n",
              "<style>\n",
              "  .colab-df-quickchart {\n",
              "      --bg-color: #E8F0FE;\n",
              "      --fill-color: #1967D2;\n",
              "      --hover-bg-color: #E2EBFA;\n",
              "      --hover-fill-color: #174EA6;\n",
              "      --disabled-fill-color: #AAA;\n",
              "      --disabled-bg-color: #DDD;\n",
              "  }\n",
              "\n",
              "  [theme=dark] .colab-df-quickchart {\n",
              "      --bg-color: #3B4455;\n",
              "      --fill-color: #D2E3FC;\n",
              "      --hover-bg-color: #434B5C;\n",
              "      --hover-fill-color: #FFFFFF;\n",
              "      --disabled-bg-color: #3B4455;\n",
              "      --disabled-fill-color: #666;\n",
              "  }\n",
              "\n",
              "  .colab-df-quickchart {\n",
              "    background-color: var(--bg-color);\n",
              "    border: none;\n",
              "    border-radius: 50%;\n",
              "    cursor: pointer;\n",
              "    display: none;\n",
              "    fill: var(--fill-color);\n",
              "    height: 32px;\n",
              "    padding: 0;\n",
              "    width: 32px;\n",
              "  }\n",
              "\n",
              "  .colab-df-quickchart:hover {\n",
              "    background-color: var(--hover-bg-color);\n",
              "    box-shadow: 0 1px 2px rgba(60, 64, 67, 0.3), 0 1px 3px 1px rgba(60, 64, 67, 0.15);\n",
              "    fill: var(--button-hover-fill-color);\n",
              "  }\n",
              "\n",
              "  .colab-df-quickchart-complete:disabled,\n",
              "  .colab-df-quickchart-complete:disabled:hover {\n",
              "    background-color: var(--disabled-bg-color);\n",
              "    fill: var(--disabled-fill-color);\n",
              "    box-shadow: none;\n",
              "  }\n",
              "\n",
              "  .colab-df-spinner {\n",
              "    border: 2px solid var(--fill-color);\n",
              "    border-color: transparent;\n",
              "    border-bottom-color: var(--fill-color);\n",
              "    animation:\n",
              "      spin 1s steps(1) infinite;\n",
              "  }\n",
              "\n",
              "  @keyframes spin {\n",
              "    0% {\n",
              "      border-color: transparent;\n",
              "      border-bottom-color: var(--fill-color);\n",
              "      border-left-color: var(--fill-color);\n",
              "    }\n",
              "    20% {\n",
              "      border-color: transparent;\n",
              "      border-left-color: var(--fill-color);\n",
              "      border-top-color: var(--fill-color);\n",
              "    }\n",
              "    30% {\n",
              "      border-color: transparent;\n",
              "      border-left-color: var(--fill-color);\n",
              "      border-top-color: var(--fill-color);\n",
              "      border-right-color: var(--fill-color);\n",
              "    }\n",
              "    40% {\n",
              "      border-color: transparent;\n",
              "      border-right-color: var(--fill-color);\n",
              "      border-top-color: var(--fill-color);\n",
              "    }\n",
              "    60% {\n",
              "      border-color: transparent;\n",
              "      border-right-color: var(--fill-color);\n",
              "    }\n",
              "    80% {\n",
              "      border-color: transparent;\n",
              "      border-right-color: var(--fill-color);\n",
              "      border-bottom-color: var(--fill-color);\n",
              "    }\n",
              "    90% {\n",
              "      border-color: transparent;\n",
              "      border-bottom-color: var(--fill-color);\n",
              "    }\n",
              "  }\n",
              "</style>\n",
              "\n",
              "  <script>\n",
              "    async function quickchart(key) {\n",
              "      const quickchartButtonEl =\n",
              "        document.querySelector('#' + key + ' button');\n",
              "      quickchartButtonEl.disabled = true;  // To prevent multiple clicks.\n",
              "      quickchartButtonEl.classList.add('colab-df-spinner');\n",
              "      try {\n",
              "        const charts = await google.colab.kernel.invokeFunction(\n",
              "            'suggestCharts', [key], {});\n",
              "      } catch (error) {\n",
              "        console.error('Error during call to suggestCharts:', error);\n",
              "      }\n",
              "      quickchartButtonEl.classList.remove('colab-df-spinner');\n",
              "      quickchartButtonEl.classList.add('colab-df-quickchart-complete');\n",
              "    }\n",
              "    (() => {\n",
              "      let quickchartButtonEl =\n",
              "        document.querySelector('#df-82bdf373-87ff-4a10-ab19-0ac7099da614 button');\n",
              "      quickchartButtonEl.style.display =\n",
              "        google.colab.kernel.accessAllowed ? 'block' : 'none';\n",
              "    })();\n",
              "  </script>\n",
              "</div>\n",
              "    </div>\n",
              "  </div>\n"
            ],
            "text/plain": [
              "                  time      VWAP\n",
              "0     2000-01-31 16:00    0.7421\n",
              "1     2000-01-31 15:55    0.7421\n",
              "2     2000-01-31 15:50    0.7411\n",
              "3     2000-01-31 15:45    0.7404\n",
              "4     2000-01-31 15:40    0.7399\n",
              "...                ...       ...\n",
              "1339  2023-10-02 04:20  172.5618\n",
              "1340  2023-10-02 04:15  172.5634\n",
              "1341  2023-10-02 04:10  172.6172\n",
              "1342  2023-10-02 04:05  172.5993\n",
              "1343  2023-10-02 04:00  172.5367\n",
              "\n",
              "[880020 rows x 2 columns]"
            ]
          },
          "execution_count": 75,
          "metadata": {},
          "output_type": "execute_result"
        }
      ],
      "source": [
        "df6"
      ]
    },
    {
      "cell_type": "code",
      "execution_count": 76,
      "metadata": {
        "id": "KYcPC-f2z369"
      },
      "outputs": [],
      "source": [
        "df6.to_csv('vwap.csv')"
      ]
    },
    {
      "cell_type": "code",
      "execution_count": 77,
      "metadata": {
        "colab": {
          "base_uri": "https://localhost:8080/"
        },
        "id": "Lng_rrXJz6Lh",
        "outputId": "b70680e2-add1-472e-8f31-bb22cac04a4a"
      },
      "outputs": [
        {
          "data": {
            "text/plain": [
              "<snowflake.connector.cursor.SnowflakeCursor at 0x7b2208d241c0>"
            ]
          },
          "execution_count": 77,
          "metadata": {},
          "output_type": "execute_result"
        }
      ],
      "source": [
        "cur.execute(\"CREATE STAGE IF NOT EXISTS VWAPDATA FILE_FORMAT = (TYPE = 'CSV')\")\n",
        "cur.execute(\"\"\"\n",
        "    PUT file://vwap.csv @VWAPDATA\n",
        "\"\"\")\n",
        "cur.execute(\"\"\"CREATE TABLE IF NOT EXISTS vwap (\n",
        "        rownum integer,\n",
        "        TIMESTAMP TIMESTAMP,\n",
        "        VWAP Float\n",
        ")\"\"\")"
      ]
    },
    {
      "cell_type": "code",
      "execution_count": 81,
      "metadata": {
        "colab": {
          "base_uri": "https://localhost:8080/"
        },
        "id": "X1jGbbL40AM4",
        "outputId": "6e8d483a-677c-4674-89ee-4dda0515467b"
      },
      "outputs": [
        {
          "data": {
            "text/plain": [
              "<snowflake.connector.cursor.SnowflakeCursor at 0x7b2208d241c0>"
            ]
          },
          "execution_count": 81,
          "metadata": {},
          "output_type": "execute_result"
        }
      ],
      "source": [
        "copy_command = \"\"\"\n",
        "COPY INTO VWAP\n",
        "FROM @AAPL_DATABASE.FIRSTATTEMPT.VWAPDATA\n",
        "FILE_FORMAT = (TYPE = 'CSV' skip_header = 1)\n",
        "ON_ERROR = 'CONTINUE'\n",
        "\"\"\"\n",
        "cur.execute(copy_command)"
      ]
    },
    {
      "cell_type": "markdown",
      "metadata": {
        "id": "tMAHIvj1sa1_"
      },
      "source": [
        "## Still need to load sentiment and government data"
      ]
    },
    {
      "cell_type": "markdown",
      "metadata": {
        "id": "fLm-C8d8tmfc"
      },
      "source": [
        "# Query Data\n"
      ]
    },
    {
      "cell_type": "code",
      "execution_count": 115,
      "metadata": {
        "colab": {
          "base_uri": "https://localhost:8080/"
        },
        "id": "-KY3wuvyseIs",
        "outputId": "95f76c1b-1372-46ac-ae81-e6ae2d0082fd"
      },
      "outputs": [
        {
          "data": {
            "text/plain": [
              "<snowflake.connector.cursor.SnowflakeCursor at 0x7b2208d241c0>"
            ]
          },
          "execution_count": 115,
          "metadata": {},
          "output_type": "execute_result"
        }
      ],
      "source": [
        "cur.execute(\"\"\"create or replace table AAPLFinal as (\n",
        "  with A as(select AAPL.*, RSI14.RSI, extract(MONTH FROM TIMESTAMP) Month, EXTRACT(DOW FROM TIMESTAMP) DOW, AAPL.Open - AAPL.Close as Change, AAPL.High - AAPL.Low as movement from AAPL\n",
        "  left join RSI14\n",
        "  using(timestamp)\n",
        "  Order by timestamp),\n",
        "\n",
        "  B as (\n",
        "  select A.*, MACD.macd, MACD.macd_hist, MACD.macd_signal from A\n",
        "  left join MACD\n",
        "  using(timestamp)\n",
        "  order by timestamp\n",
        "  ),\n",
        "\n",
        "  C as (\n",
        "    select B.*, MA50.sma ma50 from B\n",
        "    left join MA50\n",
        "    using(timestamp)\n",
        "    order by timestamp\n",
        "  ),\n",
        "\n",
        "  D as(\n",
        "    select C.*, MA5.sma ma5 from C\n",
        "    left join MA5\n",
        "    using(timestamp)\n",
        "    order by timestamp\n",
        "  ),\n",
        "\n",
        "  E as (\n",
        "    select D.*, VWAP.VWAP VWAP from D\n",
        "    left join VWAP\n",
        "    using(timestamp)\n",
        "    order by timestamp\n",
        "  )\n",
        "  SELECT * FROM E\n",
        "  WHERE HOUR(TO_TIMESTAMP(TIMESTAMP)) * 60 + MINUTE(TO_TIMESTAMP(TIMESTAMP)) >= 570\n",
        "  AND HOUR(TO_TIMESTAMP(TIMESTAMP)) * 60 + MINUTE(TO_TIMESTAMP(TIMESTAMP)) <= 960) \"\"\")"
      ]
    },
    {
      "cell_type": "code",
      "execution_count": null,
      "metadata": {
        "id": "_x2Bs8yw9Tpw"
      },
      "outputs": [],
      "source": [
        "cur.execute(\"\"\"CREATE or Replace TEMPORARY TABLE temp_table AS\n",
        "SELECT *, lead(Change) OVER (ORDER BY timestamp) AS Target1\n",
        "FROM AAPLFinal;\"\"\")\n",
        "query = \"SELECT * FROM temp_table where extract(year, timestamp) >= 2001 order by timestamp\"\n",
        "df = pd.read_sql(query, conn)"
      ]
    },
    {
      "cell_type": "code",
      "execution_count": 117,
      "metadata": {
        "colab": {
          "base_uri": "https://localhost:8080/",
          "height": 790
        },
        "id": "53QKTIZ29zng",
        "outputId": "81a4d3e4-1e05-4165-b8a0-9952a77c7092"
      },
      "outputs": [
        {
          "data": {
            "text/html": [
              "\n",
              "  <div id=\"df-9fcc8b61-fafb-40eb-971c-158690dfe661\" class=\"colab-df-container\">\n",
              "    <div>\n",
              "<style scoped>\n",
              "    .dataframe tbody tr th:only-of-type {\n",
              "        vertical-align: middle;\n",
              "    }\n",
              "\n",
              "    .dataframe tbody tr th {\n",
              "        vertical-align: top;\n",
              "    }\n",
              "\n",
              "    .dataframe thead th {\n",
              "        text-align: right;\n",
              "    }\n",
              "</style>\n",
              "<table border=\"1\" class=\"dataframe\">\n",
              "  <thead>\n",
              "    <tr style=\"text-align: right;\">\n",
              "      <th></th>\n",
              "      <th>TIMESTAMP</th>\n",
              "      <th>ROWNUM</th>\n",
              "      <th>OPEN</th>\n",
              "      <th>HIGH</th>\n",
              "      <th>LOW</th>\n",
              "      <th>CLOSE</th>\n",
              "      <th>VOLUME</th>\n",
              "      <th>RSI</th>\n",
              "      <th>MONTH</th>\n",
              "      <th>DOW</th>\n",
              "      <th>CHANGE</th>\n",
              "      <th>MOVEMENT</th>\n",
              "      <th>MACD</th>\n",
              "      <th>MACD_HIST</th>\n",
              "      <th>MACD_SIGNAL</th>\n",
              "      <th>MA50</th>\n",
              "      <th>MA5</th>\n",
              "      <th>VWAP</th>\n",
              "      <th>TARGET1</th>\n",
              "    </tr>\n",
              "  </thead>\n",
              "  <tbody>\n",
              "    <tr>\n",
              "      <th>0</th>\n",
              "      <td>2001-01-02 09:30:00</td>\n",
              "      <td>2266</td>\n",
              "      <td>0.226</td>\n",
              "      <td>0.228</td>\n",
              "      <td>0.225</td>\n",
              "      <td>0.225</td>\n",
              "      <td>11009600</td>\n",
              "      <td>NaN</td>\n",
              "      <td>1</td>\n",
              "      <td>2</td>\n",
              "      <td>0.001</td>\n",
              "      <td>0.003</td>\n",
              "      <td>NaN</td>\n",
              "      <td>NaN</td>\n",
              "      <td>NaN</td>\n",
              "      <td>NaN</td>\n",
              "      <td>0.2254</td>\n",
              "      <td>0.2259</td>\n",
              "      <td>0.000</td>\n",
              "    </tr>\n",
              "    <tr>\n",
              "      <th>1</th>\n",
              "      <td>2001-01-02 09:35:00</td>\n",
              "      <td>2265</td>\n",
              "      <td>0.226</td>\n",
              "      <td>0.229</td>\n",
              "      <td>0.223</td>\n",
              "      <td>0.226</td>\n",
              "      <td>5381600</td>\n",
              "      <td>NaN</td>\n",
              "      <td>1</td>\n",
              "      <td>2</td>\n",
              "      <td>0.000</td>\n",
              "      <td>0.006</td>\n",
              "      <td>NaN</td>\n",
              "      <td>NaN</td>\n",
              "      <td>NaN</td>\n",
              "      <td>NaN</td>\n",
              "      <td>0.2258</td>\n",
              "      <td>0.2259</td>\n",
              "      <td>-0.001</td>\n",
              "    </tr>\n",
              "    <tr>\n",
              "      <th>2</th>\n",
              "      <td>2001-01-02 09:40:00</td>\n",
              "      <td>2264</td>\n",
              "      <td>0.227</td>\n",
              "      <td>0.229</td>\n",
              "      <td>0.226</td>\n",
              "      <td>0.228</td>\n",
              "      <td>11144000</td>\n",
              "      <td>NaN</td>\n",
              "      <td>1</td>\n",
              "      <td>2</td>\n",
              "      <td>-0.001</td>\n",
              "      <td>0.003</td>\n",
              "      <td>NaN</td>\n",
              "      <td>NaN</td>\n",
              "      <td>NaN</td>\n",
              "      <td>NaN</td>\n",
              "      <td>0.2262</td>\n",
              "      <td>0.2266</td>\n",
              "      <td>0.000</td>\n",
              "    </tr>\n",
              "    <tr>\n",
              "      <th>3</th>\n",
              "      <td>2001-01-02 09:45:00</td>\n",
              "      <td>2263</td>\n",
              "      <td>0.228</td>\n",
              "      <td>0.231</td>\n",
              "      <td>0.227</td>\n",
              "      <td>0.228</td>\n",
              "      <td>10628800</td>\n",
              "      <td>NaN</td>\n",
              "      <td>1</td>\n",
              "      <td>2</td>\n",
              "      <td>0.000</td>\n",
              "      <td>0.004</td>\n",
              "      <td>NaN</td>\n",
              "      <td>NaN</td>\n",
              "      <td>NaN</td>\n",
              "      <td>NaN</td>\n",
              "      <td>0.2266</td>\n",
              "      <td>0.2271</td>\n",
              "      <td>0.002</td>\n",
              "    </tr>\n",
              "    <tr>\n",
              "      <th>4</th>\n",
              "      <td>2001-01-02 09:50:00</td>\n",
              "      <td>2262</td>\n",
              "      <td>0.228</td>\n",
              "      <td>0.229</td>\n",
              "      <td>0.224</td>\n",
              "      <td>0.226</td>\n",
              "      <td>9900800</td>\n",
              "      <td>NaN</td>\n",
              "      <td>1</td>\n",
              "      <td>2</td>\n",
              "      <td>0.002</td>\n",
              "      <td>0.005</td>\n",
              "      <td>NaN</td>\n",
              "      <td>NaN</td>\n",
              "      <td>NaN</td>\n",
              "      <td>NaN</td>\n",
              "      <td>0.2270</td>\n",
              "      <td>0.2270</td>\n",
              "      <td>0.002</td>\n",
              "    </tr>\n",
              "    <tr>\n",
              "      <th>...</th>\n",
              "      <td>...</td>\n",
              "      <td>...</td>\n",
              "      <td>...</td>\n",
              "      <td>...</td>\n",
              "      <td>...</td>\n",
              "      <td>...</td>\n",
              "      <td>...</td>\n",
              "      <td>...</td>\n",
              "      <td>...</td>\n",
              "      <td>...</td>\n",
              "      <td>...</td>\n",
              "      <td>...</td>\n",
              "      <td>...</td>\n",
              "      <td>...</td>\n",
              "      <td>...</td>\n",
              "      <td>...</td>\n",
              "      <td>...</td>\n",
              "      <td>...</td>\n",
              "      <td>...</td>\n",
              "    </tr>\n",
              "    <tr>\n",
              "      <th>451792</th>\n",
              "      <td>2023-10-10 15:40:00</td>\n",
              "      <td>51</td>\n",
              "      <td>178.585</td>\n",
              "      <td>178.740</td>\n",
              "      <td>178.540</td>\n",
              "      <td>178.630</td>\n",
              "      <td>515934</td>\n",
              "      <td>52.2100</td>\n",
              "      <td>10</td>\n",
              "      <td>2</td>\n",
              "      <td>-0.045</td>\n",
              "      <td>0.200</td>\n",
              "      <td>-0.0007</td>\n",
              "      <td>0.0802</td>\n",
              "      <td>-0.0810</td>\n",
              "      <td>178.8037</td>\n",
              "      <td>178.6730</td>\n",
              "      <td>178.7896</td>\n",
              "      <td>0.020</td>\n",
              "    </tr>\n",
              "    <tr>\n",
              "      <th>451793</th>\n",
              "      <td>2023-10-10 15:45:00</td>\n",
              "      <td>50</td>\n",
              "      <td>178.630</td>\n",
              "      <td>178.680</td>\n",
              "      <td>178.530</td>\n",
              "      <td>178.610</td>\n",
              "      <td>557809</td>\n",
              "      <td>53.5639</td>\n",
              "      <td>10</td>\n",
              "      <td>2</td>\n",
              "      <td>0.020</td>\n",
              "      <td>0.150</td>\n",
              "      <td>0.0088</td>\n",
              "      <td>0.0718</td>\n",
              "      <td>-0.0630</td>\n",
              "      <td>178.7866</td>\n",
              "      <td>178.6870</td>\n",
              "      <td>178.7865</td>\n",
              "      <td>0.380</td>\n",
              "    </tr>\n",
              "    <tr>\n",
              "      <th>451794</th>\n",
              "      <td>2023-10-10 15:50:00</td>\n",
              "      <td>49</td>\n",
              "      <td>178.610</td>\n",
              "      <td>178.660</td>\n",
              "      <td>178.120</td>\n",
              "      <td>178.230</td>\n",
              "      <td>1652985</td>\n",
              "      <td>52.8473</td>\n",
              "      <td>10</td>\n",
              "      <td>2</td>\n",
              "      <td>0.380</td>\n",
              "      <td>0.540</td>\n",
              "      <td>0.0146</td>\n",
              "      <td>0.0621</td>\n",
              "      <td>-0.0475</td>\n",
              "      <td>178.7687</td>\n",
              "      <td>178.6690</td>\n",
              "      <td>178.7656</td>\n",
              "      <td>-0.180</td>\n",
              "    </tr>\n",
              "    <tr>\n",
              "      <th>451795</th>\n",
              "      <td>2023-10-10 15:55:00</td>\n",
              "      <td>48</td>\n",
              "      <td>178.230</td>\n",
              "      <td>178.450</td>\n",
              "      <td>178.230</td>\n",
              "      <td>178.410</td>\n",
              "      <td>1990496</td>\n",
              "      <td>41.4900</td>\n",
              "      <td>10</td>\n",
              "      <td>2</td>\n",
              "      <td>-0.180</td>\n",
              "      <td>0.220</td>\n",
              "      <td>-0.0114</td>\n",
              "      <td>0.0289</td>\n",
              "      <td>-0.0403</td>\n",
              "      <td>178.7405</td>\n",
              "      <td>178.5570</td>\n",
              "      <td>178.7442</td>\n",
              "      <td>-0.120</td>\n",
              "    </tr>\n",
              "    <tr>\n",
              "      <th>451796</th>\n",
              "      <td>2023-10-10 16:00:00</td>\n",
              "      <td>47</td>\n",
              "      <td>178.420</td>\n",
              "      <td>178.590</td>\n",
              "      <td>178.340</td>\n",
              "      <td>178.540</td>\n",
              "      <td>11118748</td>\n",
              "      <td>47.5585</td>\n",
              "      <td>10</td>\n",
              "      <td>2</td>\n",
              "      <td>-0.120</td>\n",
              "      <td>0.250</td>\n",
              "      <td>-0.0164</td>\n",
              "      <td>0.0191</td>\n",
              "      <td>-0.0355</td>\n",
              "      <td>178.7177</td>\n",
              "      <td>178.4950</td>\n",
              "      <td>178.6860</td>\n",
              "      <td>NaN</td>\n",
              "    </tr>\n",
              "  </tbody>\n",
              "</table>\n",
              "<p>451797 rows × 19 columns</p>\n",
              "</div>\n",
              "    <div class=\"colab-df-buttons\">\n",
              "\n",
              "  <div class=\"colab-df-container\">\n",
              "    <button class=\"colab-df-convert\" onclick=\"convertToInteractive('df-9fcc8b61-fafb-40eb-971c-158690dfe661')\"\n",
              "            title=\"Convert this dataframe to an interactive table.\"\n",
              "            style=\"display:none;\">\n",
              "\n",
              "  <svg xmlns=\"http://www.w3.org/2000/svg\" height=\"24px\" viewBox=\"0 -960 960 960\">\n",
              "    <path d=\"M120-120v-720h720v720H120Zm60-500h600v-160H180v160Zm220 220h160v-160H400v160Zm0 220h160v-160H400v160ZM180-400h160v-160H180v160Zm440 0h160v-160H620v160ZM180-180h160v-160H180v160Zm440 0h160v-160H620v160Z\"/>\n",
              "  </svg>\n",
              "    </button>\n",
              "\n",
              "  <style>\n",
              "    .colab-df-container {\n",
              "      display:flex;\n",
              "      gap: 12px;\n",
              "    }\n",
              "\n",
              "    .colab-df-convert {\n",
              "      background-color: #E8F0FE;\n",
              "      border: none;\n",
              "      border-radius: 50%;\n",
              "      cursor: pointer;\n",
              "      display: none;\n",
              "      fill: #1967D2;\n",
              "      height: 32px;\n",
              "      padding: 0 0 0 0;\n",
              "      width: 32px;\n",
              "    }\n",
              "\n",
              "    .colab-df-convert:hover {\n",
              "      background-color: #E2EBFA;\n",
              "      box-shadow: 0px 1px 2px rgba(60, 64, 67, 0.3), 0px 1px 3px 1px rgba(60, 64, 67, 0.15);\n",
              "      fill: #174EA6;\n",
              "    }\n",
              "\n",
              "    .colab-df-buttons div {\n",
              "      margin-bottom: 4px;\n",
              "    }\n",
              "\n",
              "    [theme=dark] .colab-df-convert {\n",
              "      background-color: #3B4455;\n",
              "      fill: #D2E3FC;\n",
              "    }\n",
              "\n",
              "    [theme=dark] .colab-df-convert:hover {\n",
              "      background-color: #434B5C;\n",
              "      box-shadow: 0px 1px 3px 1px rgba(0, 0, 0, 0.15);\n",
              "      filter: drop-shadow(0px 1px 2px rgba(0, 0, 0, 0.3));\n",
              "      fill: #FFFFFF;\n",
              "    }\n",
              "  </style>\n",
              "\n",
              "    <script>\n",
              "      const buttonEl =\n",
              "        document.querySelector('#df-9fcc8b61-fafb-40eb-971c-158690dfe661 button.colab-df-convert');\n",
              "      buttonEl.style.display =\n",
              "        google.colab.kernel.accessAllowed ? 'block' : 'none';\n",
              "\n",
              "      async function convertToInteractive(key) {\n",
              "        const element = document.querySelector('#df-9fcc8b61-fafb-40eb-971c-158690dfe661');\n",
              "        const dataTable =\n",
              "          await google.colab.kernel.invokeFunction('convertToInteractive',\n",
              "                                                    [key], {});\n",
              "        if (!dataTable) return;\n",
              "\n",
              "        const docLinkHtml = 'Like what you see? Visit the ' +\n",
              "          '<a target=\"_blank\" href=https://colab.research.google.com/notebooks/data_table.ipynb>data table notebook</a>'\n",
              "          + ' to learn more about interactive tables.';\n",
              "        element.innerHTML = '';\n",
              "        dataTable['output_type'] = 'display_data';\n",
              "        await google.colab.output.renderOutput(dataTable, element);\n",
              "        const docLink = document.createElement('div');\n",
              "        docLink.innerHTML = docLinkHtml;\n",
              "        element.appendChild(docLink);\n",
              "      }\n",
              "    </script>\n",
              "  </div>\n",
              "\n",
              "\n",
              "<div id=\"df-1f3553bc-5ebc-44b2-a514-9fb56277e7e1\">\n",
              "  <button class=\"colab-df-quickchart\" onclick=\"quickchart('df-1f3553bc-5ebc-44b2-a514-9fb56277e7e1')\"\n",
              "            title=\"Suggest charts.\"\n",
              "            style=\"display:none;\">\n",
              "\n",
              "<svg xmlns=\"http://www.w3.org/2000/svg\" height=\"24px\"viewBox=\"0 0 24 24\"\n",
              "     width=\"24px\">\n",
              "    <g>\n",
              "        <path d=\"M19 3H5c-1.1 0-2 .9-2 2v14c0 1.1.9 2 2 2h14c1.1 0 2-.9 2-2V5c0-1.1-.9-2-2-2zM9 17H7v-7h2v7zm4 0h-2V7h2v10zm4 0h-2v-4h2v4z\"/>\n",
              "    </g>\n",
              "</svg>\n",
              "  </button>\n",
              "\n",
              "<style>\n",
              "  .colab-df-quickchart {\n",
              "      --bg-color: #E8F0FE;\n",
              "      --fill-color: #1967D2;\n",
              "      --hover-bg-color: #E2EBFA;\n",
              "      --hover-fill-color: #174EA6;\n",
              "      --disabled-fill-color: #AAA;\n",
              "      --disabled-bg-color: #DDD;\n",
              "  }\n",
              "\n",
              "  [theme=dark] .colab-df-quickchart {\n",
              "      --bg-color: #3B4455;\n",
              "      --fill-color: #D2E3FC;\n",
              "      --hover-bg-color: #434B5C;\n",
              "      --hover-fill-color: #FFFFFF;\n",
              "      --disabled-bg-color: #3B4455;\n",
              "      --disabled-fill-color: #666;\n",
              "  }\n",
              "\n",
              "  .colab-df-quickchart {\n",
              "    background-color: var(--bg-color);\n",
              "    border: none;\n",
              "    border-radius: 50%;\n",
              "    cursor: pointer;\n",
              "    display: none;\n",
              "    fill: var(--fill-color);\n",
              "    height: 32px;\n",
              "    padding: 0;\n",
              "    width: 32px;\n",
              "  }\n",
              "\n",
              "  .colab-df-quickchart:hover {\n",
              "    background-color: var(--hover-bg-color);\n",
              "    box-shadow: 0 1px 2px rgba(60, 64, 67, 0.3), 0 1px 3px 1px rgba(60, 64, 67, 0.15);\n",
              "    fill: var(--button-hover-fill-color);\n",
              "  }\n",
              "\n",
              "  .colab-df-quickchart-complete:disabled,\n",
              "  .colab-df-quickchart-complete:disabled:hover {\n",
              "    background-color: var(--disabled-bg-color);\n",
              "    fill: var(--disabled-fill-color);\n",
              "    box-shadow: none;\n",
              "  }\n",
              "\n",
              "  .colab-df-spinner {\n",
              "    border: 2px solid var(--fill-color);\n",
              "    border-color: transparent;\n",
              "    border-bottom-color: var(--fill-color);\n",
              "    animation:\n",
              "      spin 1s steps(1) infinite;\n",
              "  }\n",
              "\n",
              "  @keyframes spin {\n",
              "    0% {\n",
              "      border-color: transparent;\n",
              "      border-bottom-color: var(--fill-color);\n",
              "      border-left-color: var(--fill-color);\n",
              "    }\n",
              "    20% {\n",
              "      border-color: transparent;\n",
              "      border-left-color: var(--fill-color);\n",
              "      border-top-color: var(--fill-color);\n",
              "    }\n",
              "    30% {\n",
              "      border-color: transparent;\n",
              "      border-left-color: var(--fill-color);\n",
              "      border-top-color: var(--fill-color);\n",
              "      border-right-color: var(--fill-color);\n",
              "    }\n",
              "    40% {\n",
              "      border-color: transparent;\n",
              "      border-right-color: var(--fill-color);\n",
              "      border-top-color: var(--fill-color);\n",
              "    }\n",
              "    60% {\n",
              "      border-color: transparent;\n",
              "      border-right-color: var(--fill-color);\n",
              "    }\n",
              "    80% {\n",
              "      border-color: transparent;\n",
              "      border-right-color: var(--fill-color);\n",
              "      border-bottom-color: var(--fill-color);\n",
              "    }\n",
              "    90% {\n",
              "      border-color: transparent;\n",
              "      border-bottom-color: var(--fill-color);\n",
              "    }\n",
              "  }\n",
              "</style>\n",
              "\n",
              "  <script>\n",
              "    async function quickchart(key) {\n",
              "      const quickchartButtonEl =\n",
              "        document.querySelector('#' + key + ' button');\n",
              "      quickchartButtonEl.disabled = true;  // To prevent multiple clicks.\n",
              "      quickchartButtonEl.classList.add('colab-df-spinner');\n",
              "      try {\n",
              "        const charts = await google.colab.kernel.invokeFunction(\n",
              "            'suggestCharts', [key], {});\n",
              "      } catch (error) {\n",
              "        console.error('Error during call to suggestCharts:', error);\n",
              "      }\n",
              "      quickchartButtonEl.classList.remove('colab-df-spinner');\n",
              "      quickchartButtonEl.classList.add('colab-df-quickchart-complete');\n",
              "    }\n",
              "    (() => {\n",
              "      let quickchartButtonEl =\n",
              "        document.querySelector('#df-1f3553bc-5ebc-44b2-a514-9fb56277e7e1 button');\n",
              "      quickchartButtonEl.style.display =\n",
              "        google.colab.kernel.accessAllowed ? 'block' : 'none';\n",
              "    })();\n",
              "  </script>\n",
              "</div>\n",
              "    </div>\n",
              "  </div>\n"
            ],
            "text/plain": [
              "                 TIMESTAMP  ROWNUM     OPEN     HIGH      LOW    CLOSE  \\\n",
              "0      2001-01-02 09:30:00    2266    0.226    0.228    0.225    0.225   \n",
              "1      2001-01-02 09:35:00    2265    0.226    0.229    0.223    0.226   \n",
              "2      2001-01-02 09:40:00    2264    0.227    0.229    0.226    0.228   \n",
              "3      2001-01-02 09:45:00    2263    0.228    0.231    0.227    0.228   \n",
              "4      2001-01-02 09:50:00    2262    0.228    0.229    0.224    0.226   \n",
              "...                    ...     ...      ...      ...      ...      ...   \n",
              "451792 2023-10-10 15:40:00      51  178.585  178.740  178.540  178.630   \n",
              "451793 2023-10-10 15:45:00      50  178.630  178.680  178.530  178.610   \n",
              "451794 2023-10-10 15:50:00      49  178.610  178.660  178.120  178.230   \n",
              "451795 2023-10-10 15:55:00      48  178.230  178.450  178.230  178.410   \n",
              "451796 2023-10-10 16:00:00      47  178.420  178.590  178.340  178.540   \n",
              "\n",
              "          VOLUME      RSI  MONTH  DOW  CHANGE  MOVEMENT    MACD  MACD_HIST  \\\n",
              "0       11009600      NaN      1    2   0.001     0.003     NaN        NaN   \n",
              "1        5381600      NaN      1    2   0.000     0.006     NaN        NaN   \n",
              "2       11144000      NaN      1    2  -0.001     0.003     NaN        NaN   \n",
              "3       10628800      NaN      1    2   0.000     0.004     NaN        NaN   \n",
              "4        9900800      NaN      1    2   0.002     0.005     NaN        NaN   \n",
              "...          ...      ...    ...  ...     ...       ...     ...        ...   \n",
              "451792    515934  52.2100     10    2  -0.045     0.200 -0.0007     0.0802   \n",
              "451793    557809  53.5639     10    2   0.020     0.150  0.0088     0.0718   \n",
              "451794   1652985  52.8473     10    2   0.380     0.540  0.0146     0.0621   \n",
              "451795   1990496  41.4900     10    2  -0.180     0.220 -0.0114     0.0289   \n",
              "451796  11118748  47.5585     10    2  -0.120     0.250 -0.0164     0.0191   \n",
              "\n",
              "        MACD_SIGNAL      MA50       MA5      VWAP  TARGET1  \n",
              "0               NaN       NaN    0.2254    0.2259    0.000  \n",
              "1               NaN       NaN    0.2258    0.2259   -0.001  \n",
              "2               NaN       NaN    0.2262    0.2266    0.000  \n",
              "3               NaN       NaN    0.2266    0.2271    0.002  \n",
              "4               NaN       NaN    0.2270    0.2270    0.002  \n",
              "...             ...       ...       ...       ...      ...  \n",
              "451792      -0.0810  178.8037  178.6730  178.7896    0.020  \n",
              "451793      -0.0630  178.7866  178.6870  178.7865    0.380  \n",
              "451794      -0.0475  178.7687  178.6690  178.7656   -0.180  \n",
              "451795      -0.0403  178.7405  178.5570  178.7442   -0.120  \n",
              "451796      -0.0355  178.7177  178.4950  178.6860      NaN  \n",
              "\n",
              "[451797 rows x 19 columns]"
            ]
          },
          "execution_count": 117,
          "metadata": {},
          "output_type": "execute_result"
        }
      ],
      "source": [
        "df"
      ]
    },
    {
      "cell_type": "markdown",
      "metadata": {
        "id": "2vgbs23pEaDE"
      },
      "source": [
        "# Data Preprocessing"
      ]
    },
    {
      "cell_type": "code",
      "execution_count": null,
      "metadata": {
        "id": "H4XjCxoACeZ3"
      },
      "outputs": [],
      "source": []
    }
  ],
  "metadata": {
    "colab": {
      "provenance": []
    },
    "kernelspec": {
      "display_name": "Python 3",
      "name": "python3"
    },
    "language_info": {
      "name": "python"
    }
  },
  "nbformat": 4,
  "nbformat_minor": 0
}
